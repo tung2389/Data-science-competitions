{
 "cells": [
  {
   "cell_type": "code",
   "execution_count": null,
   "metadata": {},
   "outputs": [],
   "source": [
    "import pandas as pd\n",
    "from sklearn.linear_model import LogisticRegression\n",
    "import os \n",
    "\n",
    "\n",
    "def build_model_input():\n",
    "    train_df = pd.read_csv('./data/train.csv')\n",
    "    test_df = pd.read_csv('.data/test.csv')\n",
    "\n",
    "    df = pd.concat([train_df, test_df])\n",
    "    for col in df.columns:\n",
    "        if df[col].dtype == 'object' and len(df[col].unique()) >= 10:\n",
    "            df.drop(columns=[col], inplace=True)\n",
    "\n",
    "    df.fillna(0, inplace=True)\n",
    "    df = pd.get_dummies(df)\n",
    "\n",
    "    y = df[df['id'] < 53030]['label']\n",
    "    X = df[df['id'] < 53030].drop(columns=['label'])\n",
    "    X_pred = df[df['id'] >= 53030]\n",
    "\n",
    "    return X, X_pred, y\n",
    "\n",
    "X, X_pred, y = build_model_input()\n",
    "print(X.shape, X_pred.shape)\n",
    "\n",
    "clf = LogisticRegression()\n",
    "clf.fit(X, y)\n",
    "\n",
    "X_pred_id = X_pred['id']\n",
    "X_pred.drop(columns=['id'], inplace=True)\n",
    "\n",
    "y_pred = clf.predict_proba(X_pred.values)[:, 1]\n",
    "res_df = pd.DataFrame({'id': X_pred_id, 'label': y_pred})\n",
    "res_df.to_csv('simple_submission.csv', index=False)"
   ]
  }
 ],
 "metadata": {
  "kernelspec": {
   "display_name": "kaggle-competitions",
   "language": "python",
   "name": "kaggle-competitions"
  },
  "language_info": {
   "codemirror_mode": {
    "name": "ipython",
    "version": 3
   },
   "file_extension": ".py",
   "mimetype": "text/x-python",
   "name": "python",
   "nbconvert_exporter": "python",
   "pygments_lexer": "ipython3",
   "version": "3.7.6"
  }
 },
 "nbformat": 4,
 "nbformat_minor": 2
}
